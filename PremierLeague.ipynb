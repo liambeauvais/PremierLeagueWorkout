{
 "cells": [
  {
   "cell_type": "code",
   "execution_count": 115,
   "id": "349b13f6",
   "metadata": {
    "collapsed": false,
    "jupyter": {
     "outputs_hidden": false
    },
    "pycharm": {
     "name": "#%%\n"
    }
   },
   "outputs": [],
   "source": [
    "import requests\n",
    "import pandas as pd\n",
    "from sklearn.neighbors import KNeighborsClassifier\n",
    "from sklearn.model_selection import train_test_split\n",
    "from sklearn import metrics, tree\n",
    "from sklearn.linear_model import LogisticRegression\n",
    "import csv"
   ]
  },
  {
   "cell_type": "markdown",
   "id": "7167e4fa",
   "metadata": {
    "collapsed": false,
    "jupyter": {
     "outputs_hidden": false
    },
    "pycharm": {
     "name": "#%% md\n"
    }
   },
   "source": [
    "# 2. Question diverses\n",
    "## Question 1:"
   ]
  },
  {
   "cell_type": "code",
   "execution_count": 18,
   "id": "7da762d1",
   "metadata": {
    "collapsed": false,
    "jupyter": {
     "outputs_hidden": false
    },
    "pycharm": {
     "name": "#%%\n"
    }
   },
   "outputs": [],
   "source": [
    "winners = requests.get('http://localhost:8000/championship_stats/winners_count/')"
   ]
  },
  {
   "cell_type": "code",
   "execution_count": 19,
   "id": "39bd32f9",
   "metadata": {
    "collapsed": false,
    "jupyter": {
     "outputs_hidden": false
    },
    "pycharm": {
     "is_executing": true,
     "name": "#%%\n"
    }
   },
   "outputs": [
    {
     "name": "stdout",
     "output_type": "stream",
     "text": [
      "{'winning_teams': [{'id': 4, 'name': 'Chelsea'}, {'id': 1, 'name': 'Arsenal'}, {'id': 12, 'name': 'Manchester Utd'}, {'id': 3, 'name': 'Blackburn'}, {'id': 11, 'name': 'Manchester City'}, {'id': 10, 'name': 'Liverpool'}, {'id': 26, 'name': 'Leicester City'}], 'count': 7}\n"
     ]
    }
   ],
   "source": [
    "print(winners.json())"
   ]
  },
  {
   "cell_type": "markdown",
   "id": "fa765137",
   "metadata": {
    "collapsed": false,
    "jupyter": {
     "outputs_hidden": false
    },
    "pycharm": {
     "name": "#%% md\n"
    }
   },
   "source": [
    "Ici on peut voir que seulement sept équipes ont remporté la Premier League depuis 1993.\n",
    "\n",
    "## Question 2:"
   ]
  },
  {
   "cell_type": "code",
   "execution_count": 20,
   "id": "6b83d754",
   "metadata": {
    "collapsed": false,
    "jupyter": {
     "outputs_hidden": false
    },
    "pycharm": {
     "name": "#%%\n"
    }
   },
   "outputs": [
    {
     "name": "stdout",
     "output_type": "stream",
     "text": [
      "51.2008797653959\n"
     ]
    }
   ],
   "source": [
    "goals_by_year = requests.get('http://localhost:8000/championship_stats/goals_by_year/')\n",
    "mean = sum(\n",
    "    [value for key, value in goals_by_year.json().items()]\n",
    ") / len(goals_by_year.json())\n",
    "print(mean)"
   ]
  },
  {
   "cell_type": "markdown",
   "id": "6907294c",
   "metadata": {
    "collapsed": false,
    "jupyter": {
     "outputs_hidden": false
    },
    "pycharm": {
     "name": "#%% md\n"
    }
   },
   "source": [
    "Ici on peut voir que la moyenne du nombre de but marqués depuis 1993 est d'environ 51"
   ]
  },
  {
   "cell_type": "markdown",
   "id": "edf0bcd0",
   "metadata": {
    "collapsed": false,
    "jupyter": {
     "outputs_hidden": false
    },
    "pycharm": {
     "name": "#%% md\n"
    }
   },
   "source": [
    "## Question 3:"
   ]
  },
  {
   "cell_type": "code",
   "execution_count": 21,
   "id": "234d3bc5",
   "metadata": {
    "collapsed": false,
    "jupyter": {
     "outputs_hidden": false
    },
    "pycharm": {
     "name": "#%%\n"
    }
   },
   "outputs": [
    {
     "name": "stdout",
     "output_type": "stream",
     "text": [
      "{'best_team_on_matches': {'team': {'id': 12, 'name': 'Manchester Utd'}, 'won_matches': 726, 'titles': 13}, 'best_team_on_titles': {'team': {'id': 12, 'name': 'Manchester Utd'}, 'won_matches': 726, 'titles': 13}}\n"
     ]
    }
   ],
   "source": [
    "most_won_matches = requests.get('http://localhost:8000/teams/most_won_matches/')\n",
    "print(most_won_matches.json())"
   ]
  },
  {
   "cell_type": "markdown",
   "id": "45a0eb41",
   "metadata": {
    "collapsed": false,
    "jupyter": {
     "outputs_hidden": false
    },
    "pycharm": {
     "name": "#%% md\n"
    }
   },
   "source": [
    "Ici on peut voir que Manchester United a gagné le plus de matchs en Premier League, et a remporté le plus de titres"
   ]
  },
  {
   "cell_type": "markdown",
   "id": "107b24a3",
   "metadata": {
    "collapsed": false,
    "jupyter": {
     "outputs_hidden": false
    },
    "pycharm": {
     "name": "#%% md\n"
    }
   },
   "source": [
    "## Question 4:"
   ]
  },
  {
   "cell_type": "code",
   "execution_count": 36,
   "id": "8d4f77ff",
   "metadata": {
    "collapsed": false,
    "jupyter": {
     "outputs_hidden": false
    },
    "pycharm": {
     "name": "#%%\n"
    }
   },
   "outputs": [
    {
     "name": "stdout",
     "output_type": "stream",
     "text": [
      "1993: Manchester Utd, 67 buts marqués, 31 but pris\n",
      "1994: Manchester Utd, 80 buts marqués, 38 but pris\n",
      "1995: Blackburn, 80 buts marqués, 39 but pris\n",
      "1996: Manchester Utd, 73 buts marqués, 35 but pris\n",
      "1997: Manchester Utd, 76 buts marqués, 44 but pris\n",
      "1998: Arsenal, 68 buts marqués, 33 but pris\n",
      "1999: Manchester Utd, 80 buts marqués, 37 but pris\n",
      "2000: Manchester Utd, 97 buts marqués, 45 but pris\n",
      "2001: Manchester Utd, 79 buts marqués, 31 but pris\n",
      "2002: Arsenal, 79 buts marqués, 36 but pris\n",
      "2003: Manchester Utd, 74 buts marqués, 34 but pris\n",
      "2004: Arsenal, 73 buts marqués, 26 but pris\n",
      "2005: Chelsea, 72 buts marqués, 15 but pris\n",
      "2006: Chelsea, 72 buts marqués, 22 but pris\n",
      "2007: Manchester Utd, 83 buts marqués, 27 but pris\n",
      "2008: Manchester Utd, 80 buts marqués, 22 but pris\n",
      "2009: Manchester Utd, 68 buts marqués, 24 but pris\n",
      "2010: Chelsea, 103 buts marqués, 32 but pris\n",
      "2011: Manchester Utd, 78 buts marqués, 37 but pris\n",
      "2012: Manchester City, 93 buts marqués, 29 but pris\n",
      "2013: Manchester Utd, 86 buts marqués, 43 but pris\n",
      "2014: Manchester City, 102 buts marqués, 37 but pris\n",
      "2015: Chelsea, 73 buts marqués, 32 but pris\n",
      "2016: Leicester City, 68 buts marqués, 36 but pris\n",
      "2017: Chelsea, 85 buts marqués, 33 but pris\n",
      "2018: Manchester City, 106 buts marqués, 27 but pris\n",
      "2019: Manchester City, 95 buts marqués, 23 but pris\n",
      "2020: Liverpool, 85 buts marqués, 33 but pris\n",
      "2021: Manchester City, 83 buts marqués, 32 but pris\n",
      "2022: Manchester City, 99 buts marqués, 26 but pris\n",
      "2023: Manchester City, 94 buts marqués, 33 but pris\n",
      "goals_for: 82.29032258064517\n",
      "goals_against: 32.0\n"
     ]
    }
   ],
   "source": [
    "winners = requests.get('http://localhost:8000/championship_stats/winners')\n",
    "goals_for = []\n",
    "goals_against = []\n",
    "for item in winners.json():\n",
    "    for key, item in item.items():\n",
    "        goals_for.append(item['goals_for'])\n",
    "        goals_against.append(item['goals_against'])\n",
    "        print(f\"{key}: {item['team']['name']}, {item['goals_for']} buts marqués, {item['goals_against']} but pris\")\n",
    "\n",
    "print(f\"goals_for: {sum(goals_for) / len(goals_for)}\")\n",
    "print(f\"goals_against: {sum(goals_against) / len(goals_against)}\")"
   ]
  },
  {
   "cell_type": "markdown",
   "id": "afa7ea5f",
   "metadata": {
    "collapsed": false,
    "jupyter": {
     "outputs_hidden": false
    },
    "pycharm": {
     "name": "#%% md\n"
    }
   },
   "source": [
    "Ici, on peut observer les gagnants de chaque année depuis 1993, leurs but marqués et pris.\n",
    "On peut aussi voir que les gagnants marquent en moyenne 82 buts et prennent en moyenne 32 buts"
   ]
  },
  {
   "cell_type": "markdown",
   "id": "46574f87",
   "metadata": {
    "collapsed": false,
    "jupyter": {
     "outputs_hidden": false
    },
    "pycharm": {
     "name": "#%% md\n"
    }
   },
   "source": [
    "## Question 5:"
   ]
  },
  {
   "cell_type": "code",
   "execution_count": 40,
   "id": "c3bcd3d7",
   "metadata": {
    "collapsed": false,
    "jupyter": {
     "outputs_hidden": false
    },
    "pycharm": {
     "name": "#%%\n"
    }
   },
   "outputs": [
    {
     "name": "stdout",
     "output_type": "stream",
     "text": [
      "Arsenal: 31 years\n",
      "Chelsea: 31 years\n",
      "Everton: 31 years\n",
      "Liverpool: 31 years\n",
      "Manchester Utd: 31 years\n",
      "Tottenham: 31 years\n",
      "Aston Villa: 28 years\n",
      "Newcastle Utd: 28 years\n",
      "West Ham: 27 years\n",
      "Manchester City: 26 years\n",
      "Southampton: 24 years\n",
      "Blackburn: 18 years\n",
      "Leicester City: 17 years\n",
      "Sunderland: 16 years\n",
      "Fulham: 16 years\n",
      "Leeds United: 15 years\n",
      "Middlesbrough: 15 years\n",
      "Crystal Palace: 14 years\n",
      "Bolton: 13 years\n",
      "West Brom: 13 years\n",
      "Norwich City: 10 years\n",
      "Stoke City: 10 years\n",
      "Coventry City: 9 years\n",
      "Wolves: 9 years\n",
      "Sheffield Weds: 8 years\n",
      "Wimbledon: 8 years\n",
      "Charlton Ath: 8 years\n",
      "Watford: 8 years\n",
      "Wigan Athletic: 8 years\n",
      "Burnley: 8 years\n",
      "QPR: 7 years\n",
      "Derby County: 7 years\n",
      "Birmingham City: 7 years\n",
      "Portsmouth: 7 years\n",
      "Swansea City: 7 years\n",
      "Nott'ham Forest: 6 years\n",
      "Bournemouth: 6 years\n",
      "Brighton: 6 years\n",
      "Ipswich Town: 5 years\n",
      "Sheffield Utd: 5 years\n",
      "Hull City: 5 years\n",
      "Reading: 3 years\n",
      "Oldham Athletic: 2 years\n",
      "Bradford City: 2 years\n",
      "Cardiff City: 2 years\n",
      "Huddersfield: 2 years\n",
      "Brentford: 2 years\n",
      "Swindon Town: 1 years\n",
      "Barnsley: 1 years\n",
      "Blackpool: 1 years\n"
     ]
    }
   ],
   "source": [
    "teams_longevity = requests.get('http://localhost:8000/teams/teams_longevity/')\n",
    "for item in teams_longevity.json():\n",
    "    print(f\"{item['name']}: {item['longevity_in_years']} years\")"
   ]
  },
  {
   "cell_type": "markdown",
   "id": "1ad1b8d4",
   "metadata": {
    "collapsed": false,
    "jupyter": {
     "outputs_hidden": false
    },
    "pycharm": {
     "name": "#%% md\n"
    }
   },
   "source": [
    "Ici, on peut voir que six équipes jouent en Premier League depuis 1993. Le dataset ne nous donnant les infos ne provenant que depuis 1993, il est impossible de les départager en l'état."
   ]
  },
  {
   "cell_type": "markdown",
   "source": [
    "# 3. Quel club serait le plus à même de gagner en 2024?"
   ],
   "metadata": {
    "collapsed": false,
    "pycharm": {
     "name": "#%% md\n"
    }
   }
  },
  {
   "cell_type": "code",
   "execution_count": null,
   "outputs": [],
   "source": [
    "championship_stats = requests.get('http://localhost:8000/championship_stats/')"
   ],
   "metadata": {
    "collapsed": false,
    "pycharm": {
     "name": "#%%\n"
    }
   }
  },
  {
   "cell_type": "code",
   "execution_count": null,
   "outputs": [],
   "source": [
    "df = pd.DataFrame(championship_stats.json())\n",
    "print(df.info())"
   ],
   "metadata": {
    "collapsed": false,
    "pycharm": {
     "name": "#%%\n"
    }
   }
  },
  {
   "cell_type": "code",
   "execution_count": null,
   "outputs": [],
   "source": [
    "df['championship'] = df[['championship']].astype('int')\n",
    "rank=df[['rank']]\n",
    "df = df.drop(\n",
    "    columns=['rank']\n",
    ")"
   ],
   "metadata": {
    "collapsed": false,
    "pycharm": {
     "name": "#%%\n"
    }
   }
  },
  {
   "cell_type": "code",
   "execution_count": null,
   "outputs": [],
   "source": [
    "x_train, x_test, y_train, y_test = train_test_split(df, rank, test_size=0.33, random_state=42)"
   ],
   "metadata": {
    "collapsed": false,
    "pycharm": {
     "name": "#%%\n"
    }
   }
  },
  {
   "cell_type": "code",
   "execution_count": null,
   "outputs": [],
   "source": [
    "model = KNeighborsClassifier(n_neighbors=4)\n",
    "model.fit(x_train, y_train)\n",
    "prediction = model.predict(x_test)\n",
    "metrics.accuracy_score(y_test, prediction)"
   ],
   "metadata": {
    "collapsed": false,
    "pycharm": {
     "name": "#%%\n"
    }
   }
  },
  {
   "cell_type": "code",
   "execution_count": null,
   "outputs": [],
   "source": [
    "clf = LogisticRegression(random_state=0).fit(df, rank)\n",
    "clf.score(df, rank)"
   ],
   "metadata": {
    "collapsed": false,
    "pycharm": {
     "name": "#%%\n"
    }
   }
  },
  {
   "cell_type": "code",
   "execution_count": null,
   "outputs": [],
   "source": [
    "clf = RandomForestClassifier(max_depth=4, random_state=0)\n",
    "clf.fit(df, rank)\n",
    "clf.score(df,rank)"
   ],
   "metadata": {
    "collapsed": false,
    "pycharm": {
     "name": "#%%\n"
    }
   }
  },
  {
   "cell_type": "code",
   "execution_count": null,
   "outputs": [],
   "source": [
    "tree_clf = tree.DecisionTreeClassifier()\n",
    "tree_clf.fit(df,rank)\n",
    "y_prediction = tree_clf.predict(x_test)\n",
    "tree_clf.score(df,rank)"
   ],
   "metadata": {
    "collapsed": false,
    "pycharm": {
     "name": "#%%\n"
    }
   }
  },
  {
   "cell_type": "markdown",
   "source": [
    "Le score avec un DecisionTreeClassifier est de 1. Essayons de voir le rang des équipes en 2024"
   ],
   "metadata": {
    "collapsed": false,
    "pycharm": {
     "name": "#%% md\n"
    }
   }
  },
  {
   "cell_type": "code",
   "execution_count": null,
   "outputs": [],
   "source": [
    "df_2024=pd.read_csv('./data/2024-premier-league.csv', delimiter=';')\n",
    "predictions = tree_clf.predict(df_2024)\n",
    "print(predictions)"
   ],
   "metadata": {
    "collapsed": false,
    "pycharm": {
     "name": "#%%\n"
    }
   }
  },
  {
   "cell_type": "code",
   "execution_count": null,
   "outputs": [],
   "source": [
    "print(metrics.confusion_matrix(y_test,y_prediction))"
   ],
   "metadata": {
    "collapsed": false,
    "pycharm": {
     "name": "#%%\n"
    }
   }
  },
  {
   "cell_type": "markdown",
   "source": [
    "Le model semble ne pas fonctionner correctement"
   ],
   "metadata": {
    "collapsed": false,
    "pycharm": {
     "name": "#%% md\n"
    }
   }
  },
  {
   "cell_type": "markdown",
   "source": [
    "# 4. Pouvez-vous prédire le nom du meilleur buteur de la PL 2024 ?"
   ],
   "metadata": {
    "collapsed": false,
    "pycharm": {
     "name": "#%% md\n"
    }
   }
  },
  {
   "cell_type": "markdown",
   "source": [
    "Nous n'avons pas été en mesure de trouver un dataset correct ET gratuit pour les joueurs de Premier League"
   ],
   "metadata": {
    "collapsed": false,
    "pycharm": {
     "name": "#%% md\n"
    }
   }
  },
  {
   "cell_type": "markdown",
   "source": [
    "# 5. Pouvez-vous prédire les résultats des matchs de la prochaine journée de PL 2024 ?"
   ],
   "metadata": {
    "collapsed": false,
    "pycharm": {
     "name": "#%% md\n"
    }
   }
  },
  {
   "cell_type": "code",
   "execution_count": null,
   "outputs": [],
   "source": [
    "matches = requests.get('http://localhost:8000/matchs/')\n",
    "matches = pd.DataFrame(matches.json())\n",
    "winner= matches[['winner']].fillna(0)\n",
    "matches = matches.drop(\n",
    "    columns=['id','date','winner','away_goals','home_goals','championship']\n",
    ")\n",
    "\n",
    "matches.info()"
   ],
   "metadata": {
    "collapsed": false,
    "pycharm": {
     "name": "#%%\n"
    }
   }
  },
  {
   "cell_type": "code",
   "execution_count": null,
   "outputs": [],
   "source": [
    "x_train, x_test, y_train, y_test = train_test_split(matches, winner, test_size=0.33, random_state=42)"
   ],
   "metadata": {
    "collapsed": false,
    "pycharm": {
     "name": "#%%\n"
    }
   }
  },
  {
   "cell_type": "code",
   "execution_count": null,
   "outputs": [],
   "source": [
    "model = KNeighborsClassifier(n_neighbors=4)\n",
    "model.fit(x_train, y_train)\n",
    "prediction = model.predict(x_test)\n",
    "metrics.accuracy_score(y_test, prediction)"
   ],
   "metadata": {
    "collapsed": false,
    "pycharm": {
     "name": "#%%\n"
    }
   }
  },
  {
   "cell_type": "code",
   "execution_count": null,
   "outputs": [],
   "source": [
    "tree_clf = tree.DecisionTreeClassifier()\n",
    "tree_clf.fit(matches,winner)\n",
    "y_prediction = tree_clf.predict(x_test)\n",
    "tree_clf.score(matches,winner)"
   ],
   "metadata": {
    "collapsed": false,
    "pycharm": {
     "name": "#%%\n"
    }
   }
  },
  {
   "cell_type": "code",
   "execution_count": null,
   "outputs": [],
   "source": [
    "model = KNeighborsClassifier(n_neighbors=4)\n",
    "model.fit(x_train, y_train)\n",
    "prediction = model.predict(x_test)\n",
    "metrics.accuracy_score(y_test, prediction)"
   ],
   "metadata": {
    "collapsed": false,
    "pycharm": {
     "name": "#%%\n"
    }
   }
  },
  {
   "cell_type": "markdown",
   "source": [
    "On test le model avec Manchester City (id=11) contre Burnley(id=43). Ce match là devrait être gagné par Manchester City sans grande hésitation."
   ],
   "metadata": {
    "collapsed": false,
    "pycharm": {
     "name": "#%% md\n"
    }
   }
  },
  {
   "cell_type": "code",
   "execution_count": null,
   "outputs": [],
   "source": [
    "liverpool_chelsea = pd.DataFrame(\n",
    "    {\n",
    "        'week':[22],\n",
    "        'home':[11],\n",
    "        'away':[43]\n",
    "    }\n",
    ")"
   ],
   "metadata": {
    "collapsed": false,
    "pycharm": {
     "name": "#%%\n"
    }
   }
  },
  {
   "cell_type": "code",
   "execution_count": null,
   "outputs": [],
   "source": [
    "tree_clf.predict(liverpool_chelsea)"
   ],
   "metadata": {
    "collapsed": false,
    "pycharm": {
     "name": "#%%\n"
    }
   }
  },
  {
   "cell_type": "code",
   "execution_count": null,
   "outputs": [],
   "source": [
    "metrics.confusion_matrix(y_test,y_prediction)"
   ],
   "metadata": {
    "collapsed": false,
    "pycharm": {
     "name": "#%%\n"
    }
   }
  },
  {
   "cell_type": "code",
   "execution_count": null,
   "outputs": [],
   "source": [
    "Super, le model a prédit le bon gagnant!"
   ],
   "metadata": {
    "collapsed": false,
    "pycharm": {
     "name": "#%%\n"
    }
   }
  },
  {
   "cell_type": "markdown",
   "source": [
    "Essayons maintenant avec un match plus serré, Wolves (id=38) contre Manchester United(id=12). Le model donnera sûrement United vainqueur, mais au vu de leur niveau actuel, un résultat tout autre reste possible.."
   ],
   "metadata": {
    "collapsed": false,
    "pycharm": {
     "name": "#%% md\n"
    }
   }
  },
  {
   "cell_type": "code",
   "execution_count": null,
   "outputs": [],
   "source": [
    "wolves_united = pd.DataFrame(\n",
    "    {\n",
    "        'week':[22],\n",
    "        'home':[38],\n",
    "        'away':[12],\n",
    "    }\n",
    ")\n",
    "tree_clf.predict(wolves_united)"
   ],
   "metadata": {
    "collapsed": false,
    "pycharm": {
     "name": "#%%\n"
    }
   }
  },
  {
   "cell_type": "markdown",
   "source": [
    "Le résultat n'est ce qui était escompté! /\n",
    "Les deux résultats étaient pour le 'home'. Essayons avec un présumé vainqueur en 'away'"
   ],
   "metadata": {
    "collapsed": false,
    "pycharm": {
     "name": "#%% md\n"
    }
   }
  },
  {
   "cell_type": "code",
   "execution_count": null,
   "outputs": [],
   "source": [
    "nottingham_arsenal = pd.DataFrame(\n",
    "    {\n",
    "        'week':[22],\n",
    "        'home':[15],\n",
    "        'away':[1],\n",
    "    }\n",
    ")\n",
    "tree_clf.predict(nottingham_arsenal)"
   ],
   "metadata": {
    "collapsed": false,
    "pycharm": {
     "name": "#%%\n"
    }
   }
  },
  {
   "cell_type": "markdown",
   "source": [
    "Le résultat est bon pour un vainqueur présumé en extérieur."
   ],
   "metadata": {
    "collapsed": false,
    "pycharm": {
     "name": "#%% md\n"
    }
   }
  },
  {
   "cell_type": "markdown",
   "source": [
    "# 6. Qu'avons nous pensé de l'article?"
   ],
   "metadata": {
    "collapsed": false,
    "pycharm": {
     "name": "#%% md\n"
    }
   }
  },
  {
   "cell_type": "markdown",
   "source": [
    "Cet article présente une expérience qui a pour but de prédire les résultats d’une saison de premier league en se basant sur les données des 5 saisons précédentes. Pour se faire, ils ont utilisé plusieurs algorithmes d’apprentissage et ont fait des prédictions dans 2 catégories:\n",
    "La catégorie multi-class, ou il faut prédire quand une équipe va gagner à domicile, faire un nul et gagner à l’extérieur.\n",
    "La catégorie binaire, ou il faut prédire quand une équipe va gagner à domicile et gagner à l'extérieur.\n",
    "Avec leur modèle de prédiction, ils ont obtenu de meilleurs résultats que les modèles existants. En effet, dans la catégorie multi-class ils ont obtenu 70,27% de précision et 77,43% de précision dans la catégorie binaire.\n",
    "Les résultats sont très bons, mais ils ne pourront probablement pas aller au-delà même avec un meilleur modèle. En effet le football n’est pas une science exacte, chaque match révèle son lot de surprises. Cependant ce genre de modèle permet de démontrer les tendances et les formes récentes de chaque équipe, il arrive souvent que l’équipe désignée comme la plus en forme fasse un bon résultat."
   ],
   "metadata": {
    "collapsed": false,
    "pycharm": {
     "name": "#%% md\n"
    }
   }
  },
  {
   "cell_type": "code",
   "execution_count": null,
   "outputs": [],
   "source": [
    "# 7. Quelles conclusions tirez-vous de votre étude de la PL par les données ? Pouvez-vous parier les yeux fermés avec vos résultats ?"
   ],
   "metadata": {
    "collapsed": false,
    "pycharm": {
     "name": "#%%\n"
    }
   }
  },
  {
   "cell_type": "markdown",
   "source": [
    "Cette étude des données sur la PL nous a permis de traiter les résultats de championnat de 1993 à aujourd'hui, on a aussi pu traiter l'intégralité des matchs de PL sur la même période.\n",
    "La combinaison de ces 2 sources de données nous ont permis de faire des requêtes pour répondre aux différentes questions. Nous n'avons pas pu trouver de bonnes données liées aux joueurs et à leur statistiques.\n",
    "Nous avons pu nous essayer aux modèles de prédiction. Les prédictions pour le classement n'étaient pas très justes, en revanche les prédictions pour les matchs étaient bien meilleures.\n",
    "En revanche, nous ne parirons pas les yeux fermés par rapport aux resultats de ces prédictions, certaines ne sont pas justes du tout, et celles sur les matchs sont plus représentatives mais cela reste compliqué de leur accorder une confiance totale. Les côtes des bookmakers prennent en compte beaucoup plus de paramètres que ceux que nous avons passé pour notre prédiction, ce qui la rend peu fiable.\n"
   ],
   "metadata": {
    "collapsed": false,
    "pycharm": {
     "name": "#%% md\n"
    }
   }
  },
  {
   "cell_type": "markdown",
   "source": [
    "# 8. Avez-vous besoin du Big Data pour ce projet ? Justifiez votre réponse"
   ],
   "metadata": {
    "collapsed": false,
    "pycharm": {
     "name": "#%% md\n"
    }
   }
  },
  {
   "cell_type": "markdown",
   "source": [
    "Selon ChatGPT:"
   ],
   "metadata": {
    "collapsed": false,
    "pycharm": {
     "name": "#%% md\n"
    }
   }
  },
  {
   "cell_type": "markdown",
   "source": [
    "La nécessité d'utiliser la Big Data émerge dans des contextes où les données générées, collectées et traitées sont si volumineuses, complexes ou dynamiques que les solutions traditionnelles de gestion de données ne sont plus adéquates. Voici quelques contextes où la Big Data est souvent nécessaire :\n",
    "\n",
    "    Volumétrie des données : Lorsque les données générées sont extrêmement nombreuses et dépassent la capacité de stockage et de traitement des systèmes traditionnels. Cela peut inclure des données provenant de capteurs IoT, des transactions financières, des réseaux sociaux, des applications mobiles, etc.\n",
    "\n",
    "    Variété des données : Lorsque les données proviennent de sources diverses et sont de types différents, tels que des données structurées, semi-structurées et non structurées. La Big Data permet de traiter des données hétérogènes provenant de sources multiples.\n",
    "\n",
    "    Vélocité des données : Dans des situations où les données sont générées, mises à jour et diffusées à une vitesse extrêmement élevée, nécessitant des solutions qui peuvent gérer ces flux de données en temps réel. Cela peut inclure des applications de streaming en direct, des données météorologiques en temps réel, etc.\n",
    "\n",
    "    Complexité des données : Lorsque les données sont complexes et comportent des relations non triviales entre les différentes entités. La Big Data est souvent utilisée pour l'analyse de graphes, l'apprentissage automatique sur des données complexes, etc.\n",
    "\n",
    "    Analytique avancée : Lorsque des analyses approfondies, telles que l'apprentissage automatique, l'apprentissage profond, ou d'autres méthodes d'analyse avancée, nécessitent des ressources importantes en termes de puissance de calcul et de stockage.\n",
    "\n",
    "    Sécurité et conformité : Lorsque des données sensibles doivent être stockées, gérées et analysées conformément aux normes de sécurité et de conformité. La Big Data offre souvent des solutions pour gérer la sécurité des données à grande échelle.\n",
    "\n",
    "    Prise de décision en temps réel : Lorsque des décisions critiques doivent être prises en temps réel sur la base d'informations récentes. Cela peut inclure des applications dans la finance, la logistique, la santé, etc."
   ],
   "metadata": {
    "collapsed": false,
    "pycharm": {
     "name": "#%% md\n"
    }
   }
  },
  {
   "cell_type": "markdown",
   "source": [
    "Dans notre contexte, il nous semble donc que la Big Data n'est pas utile.\n",
    "Cependant, dans un contexte plus poussé sur la Premier League avec des mises à jour en temps réel des matchs joués, nous aurions du utiliser la BigData."
   ],
   "metadata": {
    "collapsed": false,
    "pycharm": {
     "name": "#%% md\n"
    }
   }
  },
  {
   "cell_type": "markdown",
   "id": "f509f961-542c-4d72-a1b7-f68c0b36ef7e",
   "metadata": {},
   "source": [
    "Le résultat est bon pour un vainqueur présumé en extérieur."
   ]
  },
  {
   "cell_type": "markdown",
   "id": "1c7fe825",
   "metadata": {
    "collapsed": false,
    "jupyter": {
     "outputs_hidden": false
    },
    "pycharm": {
     "name": "#%% md\n"
    }
   },
   "source": [
    "# 6. Qu'avons nous pensé de l'article?"
   ]
  },
  {
   "cell_type": "markdown",
   "id": "010948e1",
   "metadata": {
    "collapsed": false,
    "jupyter": {
     "outputs_hidden": false
    },
    "pycharm": {
     "name": "#%% md\n"
    }
   },
   "source": [
    "Cet article présente une expérience qui a pour but de prédire les résultats d’une saison de premier league en se basant sur les données des 5 saisons précédentes. Pour se faire, ils ont utilisé plusieurs algorithmes d’apprentissage et ont fait des prédictions dans 2 catégories:\n",
    "La catégorie multi-class, ou il faut prédire quand une équipe va gagner à domicile, faire un nul et gagner à l’extérieur.\n",
    "La catégorie binaire, ou il faut prédire quand une équipe va gagner à domicile et gagner à l'extérieur.\n",
    "Avec leur modèle de prédiction, ils ont obtenu de meilleurs résultats que les modèles existants. En effet, dans la catégorie multi-class ils ont obtenu 70,27% de précision et 77,43% de précision dans la catégorie binaire.\n",
    "Les résultats sont très bons, mais ils ne pourront probablement pas aller au-delà même avec un meilleur modèle. En effet le football n’est pas une science exacte, chaque match révèle son lot de surprises. Cependant ce genre de modèle permet de démontrer les tendances et les formes récentes de chaque équipe, il arrive souvent que l’équipe désignée comme la plus en forme fasse un bon résultat."
   ]
  },
  {
   "cell_type": "markdown",
   "id": "6449b282-7fd2-4b77-bac6-9e9436d7692a",
   "metadata": {
    "collapsed": false,
    "jupyter": {
     "outputs_hidden": false
    },
    "pycharm": {
     "name": "#%%\n"
    }
   },
   "source": [
    "# 7. Quelles conclusions tirez-vous de votre étude de la PL par les données ? Pouvez-vous parier les yeux fermés avec vos résultats ?"
   ]
  },
  {
   "cell_type": "markdown",
   "id": "333de64f-d2c9-4304-9c46-ff20e4bf2fae",
   "metadata": {},
   "source": [
    "Cette étude des données sur la PL nous a permis de traiter les résultats de championnat de 1993 à aujourd'hui, on a aussi pu traiter l'intégralité des matchs de PL sur la même période.\n",
    "La combinaison de ces 2 sources de données nous ont permis de faire des requêtes pour répondre aux différentes questions. Nous n'avons pas pu trouver de bonnes données liées aux joueurs et à leur statistiques.\n",
    "Nous avons pu nous essayer aux modèles de prédiction. Les prédictions pour le classement n'étaient pas très justes, en revanche les prédictions pour les matchs étaient bien meilleures.\n",
    "En revanche, nous ne parirons pas les yeux fermés par rapport aux resultats de ces prédictions, certaines ne sont pas justes du tout, et celles sur les matchs sont plus représentatives mais cela reste compliqué de leur accorder une confiance totale. Les côtes des bookmakers prennent en compte beaucoup plus de paramètres que ceux que nous avons passé pour notre prédiction, ce qui la rend peu fiable.\n"
   ]
  },
  {
   "cell_type": "markdown",
   "id": "e3639736-c382-4058-af9e-45a1c38d4005",
   "metadata": {},
   "source": [
    "# 8. Avez-vous besoin du Big Data pour ce projet ? Justifiez votre réponse"
   ]
  },
  {
   "cell_type": "markdown",
   "id": "04e342a3-5cdd-4ec4-ac90-3d8bc24b09cf",
   "metadata": {},
   "source": [
    "Selon ChatGPT:"
   ]
  },
  {
   "cell_type": "markdown",
   "id": "b22c1b9f-b7b2-455a-8919-b9ea61ca5940",
   "metadata": {},
   "source": [
    "La nécessité d'utiliser la Big Data émerge dans des contextes où les données générées, collectées et traitées sont si volumineuses, complexes ou dynamiques que les solutions traditionnelles de gestion de données ne sont plus adéquates. Voici quelques contextes où la Big Data est souvent nécessaire :\n",
    "\n",
    "    Volumétrie des données : Lorsque les données générées sont extrêmement nombreuses et dépassent la capacité de stockage et de traitement des systèmes traditionnels. Cela peut inclure des données provenant de capteurs IoT, des transactions financières, des réseaux sociaux, des applications mobiles, etc.\n",
    "\n",
    "    Variété des données : Lorsque les données proviennent de sources diverses et sont de types différents, tels que des données structurées, semi-structurées et non structurées. La Big Data permet de traiter des données hétérogènes provenant de sources multiples.\n",
    "\n",
    "    Vélocité des données : Dans des situations où les données sont générées, mises à jour et diffusées à une vitesse extrêmement élevée, nécessitant des solutions qui peuvent gérer ces flux de données en temps réel. Cela peut inclure des applications de streaming en direct, des données météorologiques en temps réel, etc.\n",
    "\n",
    "    Complexité des données : Lorsque les données sont complexes et comportent des relations non triviales entre les différentes entités. La Big Data est souvent utilisée pour l'analyse de graphes, l'apprentissage automatique sur des données complexes, etc.\n",
    "\n",
    "    Analytique avancée : Lorsque des analyses approfondies, telles que l'apprentissage automatique, l'apprentissage profond, ou d'autres méthodes d'analyse avancée, nécessitent des ressources importantes en termes de puissance de calcul et de stockage.\n",
    "\n",
    "    Sécurité et conformité : Lorsque des données sensibles doivent être stockées, gérées et analysées conformément aux normes de sécurité et de conformité. La Big Data offre souvent des solutions pour gérer la sécurité des données à grande échelle.\n",
    "\n",
    "    Prise de décision en temps réel : Lorsque des décisions critiques doivent être prises en temps réel sur la base d'informations récentes. Cela peut inclure des applications dans la finance, la logistique, la santé, etc."
   ]
  },
  {
   "cell_type": "markdown",
   "id": "0898860d-95c0-4a5c-8210-8a7754cfed6b",
   "metadata": {},
   "source": [
    "Dans notre contexte, il nous semble donc que la Big Data n'est pas utile.\n",
    "Cependant, dans un contexte plus poussé sur la Premier League avec des mises à jour en temps réel des matchs joués, nous aurions du utiliser la BigData."
   ]
  },
  {
   "cell_type": "code",
   "execution_count": null,
   "id": "f9e592cc-f73c-4c95-b801-f1e04fe04557",
   "metadata": {},
   "outputs": [],
   "source": []
  }
 ],
 "metadata": {
  "kernelspec": {
   "display_name": "Python 3 (ipykernel)",
   "language": "python",
   "name": "python3"
  },
  "language_info": {
   "codemirror_mode": {
    "name": "ipython",
    "version": 3
   },
   "file_extension": ".py",
   "mimetype": "text/x-python",
   "name": "python",
   "nbconvert_exporter": "python",
   "pygments_lexer": "ipython3",
   "version": "3.11.4"
  }
 },
 "nbformat": 4,
 "nbformat_minor": 5
}